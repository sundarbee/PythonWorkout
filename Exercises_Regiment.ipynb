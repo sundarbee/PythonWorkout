{
  "cells": [
    {
      "cell_type": "markdown",
      "metadata": {
        "id": "view-in-github",
        "colab_type": "text"
      },
      "source": [
        "<a href=\"https://colab.research.google.com/github/sundarbee/PythonWorkout/blob/main/Exercises_Regiment.ipynb\" target=\"_parent\"><img src=\"https://colab.research.google.com/assets/colab-badge.svg\" alt=\"Open In Colab\"/></a>"
      ]
    },
    {
      "cell_type": "markdown",
      "metadata": {
        "id": "vQYKRkxx4FI5"
      },
      "source": [
        "# Regiment"
      ]
    },
    {
      "cell_type": "markdown",
      "metadata": {
        "id": "J0CbO1fh4FI7"
      },
      "source": [
        "### Introduction:\n",
        "\n",
        "Special thanks to: http://chrisalbon.com/ for sharing the dataset and materials.\n",
        "\n",
        "### Step 1. Import the necessary libraries"
      ]
    },
    {
      "cell_type": "code",
      "execution_count": 1,
      "metadata": {
        "id": "Pty4m-pP4FI8"
      },
      "outputs": [],
      "source": [
        "import pandas as pd\n",
        "import numpy as np"
      ]
    },
    {
      "cell_type": "markdown",
      "metadata": {
        "id": "c-L935eF4FI9"
      },
      "source": [
        "### Step 2. Create the DataFrame with the following values:"
      ]
    },
    {
      "cell_type": "code",
      "execution_count": 3,
      "metadata": {
        "collapsed": true,
        "id": "ni37lLyB4FI-"
      },
      "outputs": [],
      "source": [
        "raw_data = {'regiment': ['Nighthawks', 'Nighthawks', 'Nighthawks', 'Nighthawks', 'Dragoons', 'Dragoons', 'Dragoons', 'Dragoons', 'Scouts', 'Scouts', 'Scouts', 'Scouts'],\n",
        "        'company': ['1st', '1st', '2nd', '2nd', '1st', '1st', '2nd', '2nd','1st', '1st', '2nd', '2nd'],\n",
        "        'name': ['Miller', 'Jacobson', 'Ali', 'Milner', 'Cooze', 'Jacon', 'Ryaner', 'Sone', 'Sloan', 'Piger', 'Riani', 'Ali'],\n",
        "        'preTestScore': [4, 24, 31, 2, 3, 4, 24, 31, 2, 3, 2, 3],\n",
        "        'postTestScore': [25, 94, 57, 62, 70, 25, 94, 57, 62, 70, 62, 70]}"
      ]
    },
    {
      "cell_type": "markdown",
      "metadata": {
        "id": "h9LrNCdc4FJB"
      },
      "source": [
        "### Step 3. Assign it to a variable called regiment.\n",
        "#### Don't forget to name each column"
      ]
    },
    {
      "cell_type": "code",
      "execution_count": 64,
      "metadata": {
        "colab": {
          "base_uri": "https://localhost:8080/"
        },
        "id": "2tk62bfu4FJB",
        "outputId": "2f132e81-cb4d-4ddd-d57c-12e6e5091abf"
      },
      "outputs": [
        {
          "output_type": "stream",
          "name": "stdout",
          "text": [
            "      regiment company      name  preTestScore  postTestScore\n",
            "0   Nighthawks     1st    Miller             4             25\n",
            "1   Nighthawks     1st  Jacobson            24             94\n",
            "2   Nighthawks     2nd       Ali            31             57\n",
            "3   Nighthawks     2nd    Milner             2             62\n",
            "4     Dragoons     1st     Cooze             3             70\n",
            "5     Dragoons     1st     Jacon             4             25\n",
            "6     Dragoons     2nd    Ryaner            24             94\n",
            "7     Dragoons     2nd      Sone            31             57\n",
            "8       Scouts     1st     Sloan             2             62\n",
            "9       Scouts     1st     Piger             3             70\n",
            "10      Scouts     2nd     Riani             2             62\n",
            "11      Scouts     2nd       Ali             3             70\n"
          ]
        }
      ],
      "source": [
        "regiment = pd.DataFrame(raw_data)\n",
        "print(regiment)"
      ]
    },
    {
      "cell_type": "markdown",
      "metadata": {
        "id": "XgBgbyAN4FJB"
      },
      "source": [
        "### Step 4. What is the mean preTestScore from the regiment Nighthawks?  "
      ]
    },
    {
      "cell_type": "code",
      "execution_count": 66,
      "metadata": {
        "colab": {
          "base_uri": "https://localhost:8080/"
        },
        "id": "vOfo1h7U4FJB",
        "outputId": "c8808d40-01a4-4080-d351-f854647d5e47"
      },
      "outputs": [
        {
          "output_type": "stream",
          "name": "stdout",
          "text": [
            "regiment\n",
            "Dragoons      15.50\n",
            "Nighthawks    15.25\n",
            "Scouts         2.50\n",
            "Name: preTestScore, dtype: float64\n"
          ]
        }
      ],
      "source": [
        "df_mean = regiment.groupby('regiment')['preTestScore'].mean()\n",
        "print(df_mean)"
      ]
    },
    {
      "cell_type": "markdown",
      "metadata": {
        "id": "-lZ6BxXm4FJC"
      },
      "source": [
        "### Step 5. Present general statistics by company"
      ]
    },
    {
      "cell_type": "code",
      "execution_count": 67,
      "metadata": {
        "colab": {
          "base_uri": "https://localhost:8080/"
        },
        "id": "3c7YFLry4FJC",
        "outputId": "807120ca-9580-4701-cc09-a0c493b5ccb8"
      },
      "outputs": [
        {
          "output_type": "stream",
          "name": "stdout",
          "text": [
            "        preTestScore                                                      \\\n",
            "               count       mean        std  min   25%   50%    75%   max   \n",
            "company                                                                    \n",
            "1st              6.0   6.666667   8.524475  2.0  3.00   3.5   4.00  24.0   \n",
            "2nd              6.0  15.500000  14.652645  2.0  2.25  13.5  29.25  31.0   \n",
            "\n",
            "        postTestScore                                                       \n",
            "                count       mean        std   min    25%   50%   75%   max  \n",
            "company                                                                     \n",
            "1st               6.0  57.666667  27.485754  25.0  34.25  66.0  70.0  94.0  \n",
            "2nd               6.0  67.000000  14.057027  57.0  58.25  62.0  68.0  94.0  \n"
          ]
        }
      ],
      "source": [
        "df_stat = regiment.groupby('company').describe()\n",
        "print(df_stat)\n"
      ]
    },
    {
      "cell_type": "markdown",
      "metadata": {
        "id": "B9gAmNtq4FJC"
      },
      "source": [
        "### Step 6. What is the mean of each company's preTestScore?"
      ]
    },
    {
      "cell_type": "code",
      "execution_count": 68,
      "metadata": {
        "colab": {
          "base_uri": "https://localhost:8080/"
        },
        "id": "ao7aAZ4x4FJC",
        "outputId": "ed490e7b-8953-4afc-c930-3721cf8c7292"
      },
      "outputs": [
        {
          "output_type": "stream",
          "name": "stdout",
          "text": [
            "              mean\n",
            "company           \n",
            "1st       6.666667\n",
            "2nd      15.500000\n"
          ]
        }
      ],
      "source": [
        "df_each_company_mean = regiment.groupby('company')['preTestScore'].agg(['mean'])\n",
        "print(df_each_company_mean)"
      ]
    },
    {
      "cell_type": "markdown",
      "metadata": {
        "id": "gkt0Tro04FJC"
      },
      "source": [
        "### Step 7. Present the mean preTestScores grouped by regiment and company"
      ]
    },
    {
      "cell_type": "code",
      "execution_count": 69,
      "metadata": {
        "colab": {
          "base_uri": "https://localhost:8080/"
        },
        "id": "xRkJkkKD4FJC",
        "outputId": "1a82ca00-874b-4c99-d0b3-35ca4f00112d"
      },
      "outputs": [
        {
          "output_type": "stream",
          "name": "stdout",
          "text": [
            "regiment    company\n",
            "Dragoons    1st         3.5\n",
            "            2nd        27.5\n",
            "Nighthawks  1st        14.0\n",
            "            2nd        16.5\n",
            "Scouts      1st         2.5\n",
            "            2nd         2.5\n",
            "Name: preTestScore, dtype: float64\n"
          ]
        }
      ],
      "source": [
        "pts_group_by = regiment.groupby(['regiment','company'])['preTestScore'].mean()\n",
        "print(pts_group_by)"
      ]
    },
    {
      "cell_type": "markdown",
      "metadata": {
        "id": "ZncCHJ4t4FJC"
      },
      "source": [
        "### Step 8. Present the mean preTestScores grouped by regiment and company without heirarchical indexing"
      ]
    },
    {
      "cell_type": "code",
      "execution_count": 71,
      "metadata": {
        "colab": {
          "base_uri": "https://localhost:8080/"
        },
        "id": "IImeYbtj4FJD",
        "outputId": "c22658a4-8bdd-4a9a-b0ed-f58e619d1b9d"
      },
      "outputs": [
        {
          "output_type": "stream",
          "name": "stdout",
          "text": [
            "     regiment company  preTestScore\n",
            "0    Dragoons     1st           3.5\n",
            "1    Dragoons     2nd          27.5\n",
            "2  Nighthawks     1st          14.0\n",
            "3  Nighthawks     2nd          16.5\n",
            "4      Scouts     1st           2.5\n",
            "5      Scouts     2nd           2.5\n"
          ]
        }
      ],
      "source": [
        "wo_hier_index_df = regiment.groupby(['regiment','company'])['preTestScore'].mean().reset_index()\n",
        "print(wo_hier_index_df)"
      ]
    },
    {
      "cell_type": "markdown",
      "metadata": {
        "id": "947m-P2Y4FJD"
      },
      "source": [
        "### Step 9. Group the entire dataframe by regiment and company"
      ]
    },
    {
      "cell_type": "code",
      "execution_count": 75,
      "metadata": {
        "colab": {
          "base_uri": "https://localhost:8080/"
        },
        "id": "Hff9TTDP4FJD",
        "outputId": "8b72248d-c4f9-4e30-df46-c1d3106e4c35"
      },
      "outputs": [
        {
          "output_type": "stream",
          "name": "stdout",
          "text": [
            "                    preTestScore  postTestScore\n",
            "regiment   company                             \n",
            "Dragoons   1st               3.5           47.5\n",
            "           2nd              27.5           75.5\n",
            "Nighthawks 1st              14.0           59.5\n",
            "           2nd              16.5           59.5\n",
            "Scouts     1st               2.5           66.0\n",
            "           2nd               2.5           66.0\n"
          ]
        }
      ],
      "source": [
        "df_grouped = regiment.groupby(['regiment', 'company']).mean(numeric_only=True)\n",
        "print(df_grouped)"
      ]
    },
    {
      "cell_type": "markdown",
      "metadata": {
        "id": "UgLisyC-4FJD"
      },
      "source": [
        "### Step 10. What is the number of observations in each regiment and company"
      ]
    },
    {
      "cell_type": "code",
      "execution_count": 77,
      "metadata": {
        "colab": {
          "base_uri": "https://localhost:8080/"
        },
        "id": "bNtWgdSX4FJD",
        "outputId": "19a579f3-82b0-447a-ef20-cccb66a5818f"
      },
      "outputs": [
        {
          "output_type": "stream",
          "name": "stdout",
          "text": [
            "            company  name  preTestScore  postTestScore\n",
            "regiment                                              \n",
            "Dragoons          4     4             4              4\n",
            "Nighthawks        4     4             4              4\n",
            "Scouts            4     4             4              4\n"
          ]
        }
      ],
      "source": [
        "df_observation = regiment.groupby('regiment').count()\n",
        "print(df_observation)"
      ]
    },
    {
      "cell_type": "markdown",
      "metadata": {
        "id": "tw5MBA-E4FJD"
      },
      "source": [
        "### Step 11. Iterate over a group and print the name and the whole data from the regiment"
      ]
    },
    {
      "cell_type": "code",
      "execution_count": 79,
      "metadata": {
        "colab": {
          "base_uri": "https://localhost:8080/"
        },
        "id": "CYKRGIkB4FJD",
        "outputId": "41cc6f2f-353d-4cb5-d82e-e1de5b6966dd"
      },
      "outputs": [
        {
          "output_type": "stream",
          "name": "stdout",
          "text": [
            "(('Dragoons',),    regiment company    name  preTestScore  postTestScore\n",
            "4  Dragoons     1st   Cooze             3             70\n",
            "5  Dragoons     1st   Jacon             4             25\n",
            "6  Dragoons     2nd  Ryaner            24             94\n",
            "7  Dragoons     2nd    Sone            31             57)\n",
            "(('Nighthawks',),      regiment company      name  preTestScore  postTestScore\n",
            "0  Nighthawks     1st    Miller             4             25\n",
            "1  Nighthawks     1st  Jacobson            24             94\n",
            "2  Nighthawks     2nd       Ali            31             57\n",
            "3  Nighthawks     2nd    Milner             2             62)\n",
            "(('Scouts',),    regiment company   name  preTestScore  postTestScore\n",
            "8    Scouts     1st  Sloan             2             62\n",
            "9    Scouts     1st  Piger             3             70\n",
            "10   Scouts     2nd  Riani             2             62\n",
            "11   Scouts     2nd    Ali             3             70)\n"
          ]
        }
      ],
      "source": [
        "loop_df = regiment.groupby(['regiment'])\n",
        "for name in loop_df:\n",
        "  print(name)"
      ]
    }
  ],
  "metadata": {
    "kernelspec": {
      "display_name": "Python 2",
      "language": "python",
      "name": "python2"
    },
    "language_info": {
      "codemirror_mode": {
        "name": "ipython",
        "version": 2
      },
      "file_extension": ".py",
      "mimetype": "text/x-python",
      "name": "python",
      "nbconvert_exporter": "python",
      "pygments_lexer": "ipython2",
      "version": "2.7.11"
    },
    "colab": {
      "provenance": [],
      "include_colab_link": true
    }
  },
  "nbformat": 4,
  "nbformat_minor": 0
}